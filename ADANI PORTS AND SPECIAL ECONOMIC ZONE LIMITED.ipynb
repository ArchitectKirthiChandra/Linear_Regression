{
 "cells": [
  {
   "cell_type": "code",
   "execution_count": 128,
   "id": "073bab30",
   "metadata": {},
   "outputs": [
    {
     "data": {
      "text/html": [
       "<div>\n",
       "<style scoped>\n",
       "    .dataframe tbody tr th:only-of-type {\n",
       "        vertical-align: middle;\n",
       "    }\n",
       "\n",
       "    .dataframe tbody tr th {\n",
       "        vertical-align: top;\n",
       "    }\n",
       "\n",
       "    .dataframe thead th {\n",
       "        text-align: right;\n",
       "    }\n",
       "</style>\n",
       "<table border=\"1\" class=\"dataframe\">\n",
       "  <thead>\n",
       "    <tr style=\"text-align: right;\">\n",
       "      <th></th>\n",
       "      <th>Date</th>\n",
       "      <th>Price</th>\n",
       "      <th>Open</th>\n",
       "      <th>High</th>\n",
       "      <th>Low</th>\n",
       "      <th>Volume</th>\n",
       "      <th>Chg%</th>\n",
       "    </tr>\n",
       "  </thead>\n",
       "  <tbody>\n",
       "    <tr>\n",
       "      <th>0</th>\n",
       "      <td>Apr 24, 2023</td>\n",
       "      <td>671.3</td>\n",
       "      <td>665.6</td>\n",
       "      <td>672.45</td>\n",
       "      <td>656.00</td>\n",
       "      <td>3.35M</td>\n",
       "      <td>0.0147</td>\n",
       "    </tr>\n",
       "    <tr>\n",
       "      <th>1</th>\n",
       "      <td>Apr 21, 2023</td>\n",
       "      <td>661.6</td>\n",
       "      <td>668.0</td>\n",
       "      <td>670.60</td>\n",
       "      <td>658.65</td>\n",
       "      <td>1.98M</td>\n",
       "      <td>-0.0068</td>\n",
       "    </tr>\n",
       "    <tr>\n",
       "      <th>2</th>\n",
       "      <td>Apr 20, 2023</td>\n",
       "      <td>666.1</td>\n",
       "      <td>663.0</td>\n",
       "      <td>678.50</td>\n",
       "      <td>661.20</td>\n",
       "      <td>5.01M</td>\n",
       "      <td>0.0117</td>\n",
       "    </tr>\n",
       "  </tbody>\n",
       "</table>\n",
       "</div>"
      ],
      "text/plain": [
       "           Date  Price   Open    High     Low Volume    Chg%\n",
       "0  Apr 24, 2023  671.3  665.6  672.45  656.00  3.35M  0.0147\n",
       "1  Apr 21, 2023  661.6  668.0  670.60  658.65  1.98M -0.0068\n",
       "2  Apr 20, 2023  666.1  663.0  678.50  661.20  5.01M  0.0117"
      ]
     },
     "execution_count": 128,
     "metadata": {},
     "output_type": "execute_result"
    }
   ],
   "source": [
    "# The file is a stock data from one of the of nifty 50\n",
    "# The selected stock is ADANI PORTS AND SPECIAL ECONOMIC ZONE LIMITED\n",
    "\n",
    "import pandas as pd\n",
    "\n",
    "df= pd.read_excel('ADANI PORTS AND SPECIAL ECONOMIC ZONE LIMITED.xlsx')\n",
    "df.head(3)\n",
    "# Importing the data to jupyter notebook using pandas"
   ]
  },
  {
   "cell_type": "code",
   "execution_count": 129,
   "id": "594294d0",
   "metadata": {},
   "outputs": [
    {
     "name": "stdout",
     "output_type": "stream",
     "text": [
      "<class 'pandas.core.frame.DataFrame'>\n",
      "RangeIndex: 3782 entries, 0 to 3781\n",
      "Data columns (total 7 columns):\n",
      " #   Column  Non-Null Count  Dtype  \n",
      "---  ------  --------------  -----  \n",
      " 0   Date    3782 non-null   object \n",
      " 1   Price   3782 non-null   float64\n",
      " 2   Open    3782 non-null   float64\n",
      " 3   High    3782 non-null   float64\n",
      " 4   Low     3782 non-null   float64\n",
      " 5   Volume  3782 non-null   object \n",
      " 6   Chg%    3782 non-null   float64\n",
      "dtypes: float64(5), object(2)\n",
      "memory usage: 207.0+ KB\n"
     ]
    }
   ],
   "source": [
    "# Checking the details and found that the date is not in datetime, but how ever i dont need it in Linear Regression\n",
    "df.info()"
   ]
  },
  {
   "cell_type": "code",
   "execution_count": 130,
   "id": "4c9c53ac",
   "metadata": {},
   "outputs": [
    {
     "data": {
      "text/plain": [
       "(3782, 7)"
      ]
     },
     "execution_count": 130,
     "metadata": {},
     "output_type": "execute_result"
    }
   ],
   "source": [
    "# checking the shape of DataFrame\n",
    "df.shape"
   ]
  },
  {
   "cell_type": "code",
   "execution_count": 131,
   "id": "6e495b71",
   "metadata": {},
   "outputs": [
    {
     "data": {
      "text/html": [
       "<div>\n",
       "<style scoped>\n",
       "    .dataframe tbody tr th:only-of-type {\n",
       "        vertical-align: middle;\n",
       "    }\n",
       "\n",
       "    .dataframe tbody tr th {\n",
       "        vertical-align: top;\n",
       "    }\n",
       "\n",
       "    .dataframe thead th {\n",
       "        text-align: right;\n",
       "    }\n",
       "</style>\n",
       "<table border=\"1\" class=\"dataframe\">\n",
       "  <thead>\n",
       "    <tr style=\"text-align: right;\">\n",
       "      <th></th>\n",
       "      <th>Price</th>\n",
       "      <th>Open</th>\n",
       "      <th>High</th>\n",
       "      <th>Low</th>\n",
       "    </tr>\n",
       "  </thead>\n",
       "  <tbody>\n",
       "    <tr>\n",
       "      <th>0</th>\n",
       "      <td>671.3</td>\n",
       "      <td>665.6</td>\n",
       "      <td>672.45</td>\n",
       "      <td>656.00</td>\n",
       "    </tr>\n",
       "    <tr>\n",
       "      <th>1</th>\n",
       "      <td>661.6</td>\n",
       "      <td>668.0</td>\n",
       "      <td>670.60</td>\n",
       "      <td>658.65</td>\n",
       "    </tr>\n",
       "    <tr>\n",
       "      <th>2</th>\n",
       "      <td>666.1</td>\n",
       "      <td>663.0</td>\n",
       "      <td>678.50</td>\n",
       "      <td>661.20</td>\n",
       "    </tr>\n",
       "  </tbody>\n",
       "</table>\n",
       "</div>"
      ],
      "text/plain": [
       "   Price   Open    High     Low\n",
       "0  671.3  665.6  672.45  656.00\n",
       "1  661.6  668.0  670.60  658.65\n",
       "2  666.1  663.0  678.50  661.20"
      ]
     },
     "execution_count": 131,
     "metadata": {},
     "output_type": "execute_result"
    }
   ],
   "source": [
    "# removing date column, Chg% and Volumn\n",
    "\n",
    "df = df.drop(['Date','Chg%','Volume'], axis = 1)\n",
    "df.head(3)"
   ]
  },
  {
   "cell_type": "code",
   "execution_count": 132,
   "id": "10a3947a",
   "metadata": {},
   "outputs": [
    {
     "data": {
      "text/plain": [
       "(3782, 4)"
      ]
     },
     "execution_count": 132,
     "metadata": {},
     "output_type": "execute_result"
    }
   ],
   "source": [
    "# Confirming the Changes done\n",
    "df.shape"
   ]
  },
  {
   "cell_type": "code",
   "execution_count": 133,
   "id": "62bab2bb",
   "metadata": {},
   "outputs": [
    {
     "data": {
      "text/plain": [
       "Price    0\n",
       "Open     0\n",
       "High     0\n",
       "Low      0\n",
       "dtype: int64"
      ]
     },
     "execution_count": 133,
     "metadata": {},
     "output_type": "execute_result"
    }
   ],
   "source": [
    "# Checking the null values\n",
    "df.isnull().sum()"
   ]
  },
  {
   "cell_type": "code",
   "execution_count": 134,
   "id": "e9cc3982",
   "metadata": {},
   "outputs": [
    {
     "data": {
      "text/plain": [
       "0"
      ]
     },
     "execution_count": 134,
     "metadata": {},
     "output_type": "execute_result"
    }
   ],
   "source": [
    "# Checking for any duplicates\n",
    "df.duplicated().sum()"
   ]
  },
  {
   "cell_type": "code",
   "execution_count": 135,
   "id": "77979cd2",
   "metadata": {},
   "outputs": [
    {
     "data": {
      "text/html": [
       "<div>\n",
       "<style scoped>\n",
       "    .dataframe tbody tr th:only-of-type {\n",
       "        vertical-align: middle;\n",
       "    }\n",
       "\n",
       "    .dataframe tbody tr th {\n",
       "        vertical-align: top;\n",
       "    }\n",
       "\n",
       "    .dataframe thead th {\n",
       "        text-align: right;\n",
       "    }\n",
       "</style>\n",
       "<table border=\"1\" class=\"dataframe\">\n",
       "  <thead>\n",
       "    <tr style=\"text-align: right;\">\n",
       "      <th></th>\n",
       "      <th>Price</th>\n",
       "      <th>Open</th>\n",
       "      <th>High</th>\n",
       "      <th>Low</th>\n",
       "    </tr>\n",
       "  </thead>\n",
       "  <tbody>\n",
       "    <tr>\n",
       "      <th>count</th>\n",
       "      <td>3782.000000</td>\n",
       "      <td>3782.000000</td>\n",
       "      <td>3782.000000</td>\n",
       "      <td>3782.000000</td>\n",
       "    </tr>\n",
       "    <tr>\n",
       "      <th>mean</th>\n",
       "      <td>309.658823</td>\n",
       "      <td>310.220645</td>\n",
       "      <td>315.302221</td>\n",
       "      <td>304.380814</td>\n",
       "    </tr>\n",
       "    <tr>\n",
       "      <th>std</th>\n",
       "      <td>210.218301</td>\n",
       "      <td>210.750007</td>\n",
       "      <td>213.532798</td>\n",
       "      <td>207.239531</td>\n",
       "    </tr>\n",
       "    <tr>\n",
       "      <th>min</th>\n",
       "      <td>51.590000</td>\n",
       "      <td>51.400000</td>\n",
       "      <td>52.510000</td>\n",
       "      <td>50.730000</td>\n",
       "    </tr>\n",
       "    <tr>\n",
       "      <th>25%</th>\n",
       "      <td>143.612500</td>\n",
       "      <td>143.725000</td>\n",
       "      <td>146.662500</td>\n",
       "      <td>140.700000</td>\n",
       "    </tr>\n",
       "    <tr>\n",
       "      <th>50%</th>\n",
       "      <td>270.125000</td>\n",
       "      <td>271.075000</td>\n",
       "      <td>275.000000</td>\n",
       "      <td>265.000000</td>\n",
       "    </tr>\n",
       "    <tr>\n",
       "      <th>75%</th>\n",
       "      <td>380.050000</td>\n",
       "      <td>380.775000</td>\n",
       "      <td>385.375000</td>\n",
       "      <td>375.475000</td>\n",
       "    </tr>\n",
       "    <tr>\n",
       "      <th>max</th>\n",
       "      <td>970.250000</td>\n",
       "      <td>974.200000</td>\n",
       "      <td>987.850000</td>\n",
       "      <td>967.000000</td>\n",
       "    </tr>\n",
       "  </tbody>\n",
       "</table>\n",
       "</div>"
      ],
      "text/plain": [
       "             Price         Open         High          Low\n",
       "count  3782.000000  3782.000000  3782.000000  3782.000000\n",
       "mean    309.658823   310.220645   315.302221   304.380814\n",
       "std     210.218301   210.750007   213.532798   207.239531\n",
       "min      51.590000    51.400000    52.510000    50.730000\n",
       "25%     143.612500   143.725000   146.662500   140.700000\n",
       "50%     270.125000   271.075000   275.000000   265.000000\n",
       "75%     380.050000   380.775000   385.375000   375.475000\n",
       "max     970.250000   974.200000   987.850000   967.000000"
      ]
     },
     "execution_count": 135,
     "metadata": {},
     "output_type": "execute_result"
    }
   ],
   "source": [
    "# Checking the Statistical summary of the dataframe\n",
    "df.describe()"
   ]
  },
  {
   "cell_type": "markdown",
   "id": "8e3b1de5",
   "metadata": {},
   "source": [
    "# Visualising the existing data"
   ]
  },
  {
   "cell_type": "code",
   "execution_count": 136,
   "id": "741fc34a",
   "metadata": {},
   "outputs": [
    {
     "data": {
      "text/html": [
       "<div>\n",
       "<style scoped>\n",
       "    .dataframe tbody tr th:only-of-type {\n",
       "        vertical-align: middle;\n",
       "    }\n",
       "\n",
       "    .dataframe tbody tr th {\n",
       "        vertical-align: top;\n",
       "    }\n",
       "\n",
       "    .dataframe thead th {\n",
       "        text-align: right;\n",
       "    }\n",
       "</style>\n",
       "<table border=\"1\" class=\"dataframe\">\n",
       "  <thead>\n",
       "    <tr style=\"text-align: right;\">\n",
       "      <th></th>\n",
       "      <th>Price</th>\n",
       "      <th>Open</th>\n",
       "      <th>High</th>\n",
       "      <th>Low</th>\n",
       "    </tr>\n",
       "  </thead>\n",
       "  <tbody>\n",
       "    <tr>\n",
       "      <th>Price</th>\n",
       "      <td>1.000000</td>\n",
       "      <td>0.999162</td>\n",
       "      <td>0.999592</td>\n",
       "      <td>0.999596</td>\n",
       "    </tr>\n",
       "    <tr>\n",
       "      <th>Open</th>\n",
       "      <td>0.999162</td>\n",
       "      <td>1.000000</td>\n",
       "      <td>0.999627</td>\n",
       "      <td>0.999390</td>\n",
       "    </tr>\n",
       "    <tr>\n",
       "      <th>High</th>\n",
       "      <td>0.999592</td>\n",
       "      <td>0.999627</td>\n",
       "      <td>1.000000</td>\n",
       "      <td>0.999245</td>\n",
       "    </tr>\n",
       "    <tr>\n",
       "      <th>Low</th>\n",
       "      <td>0.999596</td>\n",
       "      <td>0.999390</td>\n",
       "      <td>0.999245</td>\n",
       "      <td>1.000000</td>\n",
       "    </tr>\n",
       "  </tbody>\n",
       "</table>\n",
       "</div>"
      ],
      "text/plain": [
       "          Price      Open      High       Low\n",
       "Price  1.000000  0.999162  0.999592  0.999596\n",
       "Open   0.999162  1.000000  0.999627  0.999390\n",
       "High   0.999592  0.999627  1.000000  0.999245\n",
       "Low    0.999596  0.999390  0.999245  1.000000"
      ]
     },
     "execution_count": 136,
     "metadata": {},
     "output_type": "execute_result"
    }
   ],
   "source": [
    "df.corr()"
   ]
  },
  {
   "cell_type": "code",
   "execution_count": 137,
   "id": "d01ea0e0",
   "metadata": {},
   "outputs": [],
   "source": [
    "import seaborn as sns"
   ]
  },
  {
   "cell_type": "code",
   "execution_count": 138,
   "id": "1c51e537",
   "metadata": {},
   "outputs": [
    {
     "data": {
      "text/plain": [
       "<AxesSubplot:>"
      ]
     },
     "execution_count": 138,
     "metadata": {},
     "output_type": "execute_result"
    },
    {
     "data": {
      "image/png": "[encoded data removed]",
      "text/plain": [
       "<Figure size 432x288 with 2 Axes>"
      ]
     },
     "metadata": {
      "needs_background": "light"
     },
     "output_type": "display_data"
    }
   ],
   "source": [
    "sns.heatmap(df.corr(), annot = True)\n",
    "# all the data is highly corelative to all the other variables\n",
    "# it is over fitted model"
   ]
  },
  {
   "cell_type": "markdown",
   "id": "024e237c",
   "metadata": {},
   "source": [
    "# Linear Regression "
   ]
  },
  {
   "cell_type": "code",
   "execution_count": 139,
   "id": "f9b99804",
   "metadata": {},
   "outputs": [],
   "source": [
    "# separating the predictors and target variables\n",
    "\n",
    "y = df['Price']\n",
    "X = df.drop('Price', axis = 1)"
   ]
  },
  {
   "cell_type": "markdown",
   "id": "d8e6d884",
   "metadata": {},
   "source": [
    "##  Splitting the Data to train and test using sklearn.model_selection\n"
   ]
  },
  {
   "cell_type": "code",
   "execution_count": 140,
   "id": "d182d3b0",
   "metadata": {},
   "outputs": [],
   "source": [
    "from sklearn.model_selection import train_test_split\n",
    "X_train, X_test, y_train, y_test = train_test_split(X,y, train_size = 0.7, random_state = 20)"
   ]
  },
  {
   "cell_type": "code",
   "execution_count": 141,
   "id": "1448734c",
   "metadata": {},
   "outputs": [
    {
     "data": {
      "text/html": [
       "<div>\n",
       "<style scoped>\n",
       "    .dataframe tbody tr th:only-of-type {\n",
       "        vertical-align: middle;\n",
       "    }\n",
       "\n",
       "    .dataframe tbody tr th {\n",
       "        vertical-align: top;\n",
       "    }\n",
       "\n",
       "    .dataframe thead th {\n",
       "        text-align: right;\n",
       "    }\n",
       "</style>\n",
       "<table border=\"1\" class=\"dataframe\">\n",
       "  <thead>\n",
       "    <tr style=\"text-align: right;\">\n",
       "      <th></th>\n",
       "      <th>Open</th>\n",
       "      <th>High</th>\n",
       "      <th>Low</th>\n",
       "    </tr>\n",
       "  </thead>\n",
       "  <tbody>\n",
       "    <tr>\n",
       "      <th>3049</th>\n",
       "      <td>150.50</td>\n",
       "      <td>152.40</td>\n",
       "      <td>148.50</td>\n",
       "    </tr>\n",
       "    <tr>\n",
       "      <th>2101</th>\n",
       "      <td>270.05</td>\n",
       "      <td>271.40</td>\n",
       "      <td>269.05</td>\n",
       "    </tr>\n",
       "    <tr>\n",
       "      <th>1601</th>\n",
       "      <td>299.70</td>\n",
       "      <td>301.90</td>\n",
       "      <td>287.10</td>\n",
       "    </tr>\n",
       "    <tr>\n",
       "      <th>1163</th>\n",
       "      <td>403.50</td>\n",
       "      <td>406.40</td>\n",
       "      <td>395.30</td>\n",
       "    </tr>\n",
       "    <tr>\n",
       "      <th>443</th>\n",
       "      <td>724.00</td>\n",
       "      <td>728.00</td>\n",
       "      <td>709.10</td>\n",
       "    </tr>\n",
       "    <tr>\n",
       "      <th>...</th>\n",
       "      <td>...</td>\n",
       "      <td>...</td>\n",
       "      <td>...</td>\n",
       "    </tr>\n",
       "    <tr>\n",
       "      <th>2972</th>\n",
       "      <td>145.90</td>\n",
       "      <td>147.85</td>\n",
       "      <td>144.20</td>\n",
       "    </tr>\n",
       "    <tr>\n",
       "      <th>3295</th>\n",
       "      <td>111.40</td>\n",
       "      <td>111.88</td>\n",
       "      <td>109.60</td>\n",
       "    </tr>\n",
       "    <tr>\n",
       "      <th>271</th>\n",
       "      <td>730.50</td>\n",
       "      <td>743.80</td>\n",
       "      <td>729.55</td>\n",
       "    </tr>\n",
       "    <tr>\n",
       "      <th>2522</th>\n",
       "      <td>149.80</td>\n",
       "      <td>153.40</td>\n",
       "      <td>146.45</td>\n",
       "    </tr>\n",
       "    <tr>\n",
       "      <th>3427</th>\n",
       "      <td>124.00</td>\n",
       "      <td>127.00</td>\n",
       "      <td>121.40</td>\n",
       "    </tr>\n",
       "  </tbody>\n",
       "</table>\n",
       "<p>2647 rows × 3 columns</p>\n",
       "</div>"
      ],
      "text/plain": [
       "        Open    High     Low\n",
       "3049  150.50  152.40  148.50\n",
       "2101  270.05  271.40  269.05\n",
       "1601  299.70  301.90  287.10\n",
       "1163  403.50  406.40  395.30\n",
       "443   724.00  728.00  709.10\n",
       "...      ...     ...     ...\n",
       "2972  145.90  147.85  144.20\n",
       "3295  111.40  111.88  109.60\n",
       "271   730.50  743.80  729.55\n",
       "2522  149.80  153.40  146.45\n",
       "3427  124.00  127.00  121.40\n",
       "\n",
       "[2647 rows x 3 columns]"
      ]
     },
     "execution_count": 141,
     "metadata": {},
     "output_type": "execute_result"
    }
   ],
   "source": [
    "# Checking the shape and columns in the new dataset\n",
    "X_train"
   ]
  },
  {
   "cell_type": "markdown",
   "id": "7aa19135",
   "metadata": {},
   "source": [
    "## Fitting the linear regression algorithm using sklearn.linear_model\n"
   ]
  },
  {
   "cell_type": "code",
   "execution_count": 142,
   "id": "192f2132",
   "metadata": {},
   "outputs": [],
   "source": [
    "from sklearn.linear_model import LinearRegression"
   ]
  },
  {
   "cell_type": "code",
   "execution_count": 143,
   "id": "696832f2",
   "metadata": {},
   "outputs": [],
   "source": [
    "lr = LinearRegression()"
   ]
  },
  {
   "cell_type": "code",
   "execution_count": 144,
   "id": "0ae879a9",
   "metadata": {},
   "outputs": [
    {
     "data": {
      "text/plain": [
       "LinearRegression()"
      ]
     },
     "execution_count": 144,
     "metadata": {},
     "output_type": "execute_result"
    }
   ],
   "source": [
    "# training the model\n",
    "lr.fit(X_train, y_train)"
   ]
  },
  {
   "cell_type": "code",
   "execution_count": 145,
   "id": "88f1c986",
   "metadata": {},
   "outputs": [
    {
     "data": {
      "text/plain": [
       "array([294.64224994, 727.93192903, 156.19951234, ..., 145.98370669,\n",
       "       364.28671571, 372.04016751])"
      ]
     },
     "execution_count": 145,
     "metadata": {},
     "output_type": "execute_result"
    }
   ],
   "source": [
    "# predicting the model\n",
    "y_pred = lr.predict(X_test)\n",
    "y_pred"
   ]
  },
  {
   "cell_type": "markdown",
   "id": "d86d1041",
   "metadata": {},
   "source": [
    "## Visual understanding of the predicted and the actual data of the test\n"
   ]
  },
  {
   "cell_type": "code",
   "execution_count": 146,
   "id": "81ff0857",
   "metadata": {},
   "outputs": [
    {
     "data": {
      "text/plain": [
       "<matplotlib.legend.Legend at 0x28e90e45b20>"
      ]
     },
     "execution_count": 146,
     "metadata": {},
     "output_type": "execute_result"
    },
    {
     "data": {
      "image/png": "[encoded data removed]",
      "text/plain": [
       "<Figure size 1080x504 with 1 Axes>"
      ]
     },
     "metadata": {
      "needs_background": "light"
     },
     "output_type": "display_data"
    }
   ],
   "source": [
    "\n",
    "import matplotlib.pyplot as plt\n",
    "\n",
    "x_range = [i for i in range(len(y_test))]\n",
    "\n",
    "\n",
    "plt.figure(figsize = (15,7))\n",
    "plt.plot(x_range,y_pred)\n",
    "plt.plot(x_range, y_test)\n",
    "\n",
    "plt.title('Predicted vs Actual')\n",
    "plt.xlabel('Observations')\n",
    "plt.ylabel('Values in that Observation')\n",
    "\n",
    "plt.legend(['Predicted','Actual'])"
   ]
  },
  {
   "cell_type": "markdown",
   "id": "52edc29a",
   "metadata": {},
   "source": [
    "## Reading using sklearn.metrics"
   ]
  },
  {
   "cell_type": "code",
   "execution_count": 147,
   "id": "c7627216",
   "metadata": {},
   "outputs": [],
   "source": [
    "from sklearn.metrics import r2_score, mean_squared_error"
   ]
  },
  {
   "cell_type": "code",
   "execution_count": 148,
   "id": "5992dff9",
   "metadata": {},
   "outputs": [
    {
     "name": "stdout",
     "output_type": "stream",
     "text": [
      "0.9997314245833089\n"
     ]
    }
   ],
   "source": [
    "# r2_score to measure the performance of the Linear Regression model\n",
    "print(r2_score(y_test,y_pred))"
   ]
  },
  {
   "cell_type": "code",
   "execution_count": 149,
   "id": "92b1e370",
   "metadata": {},
   "outputs": [
    {
     "name": "stdout",
     "output_type": "stream",
     "text": [
      "12.013131919763143\n"
     ]
    }
   ],
   "source": [
    "# mean squared error is to find the difference between the predicted and actual values in a regression model\n",
    "print(mean_squared_error(y_pred,y_test))"
   ]
  },
  {
   "cell_type": "markdown",
   "id": "a0507e1e",
   "metadata": {},
   "source": [
    "## Reading using statsmodel"
   ]
  },
  {
   "cell_type": "code",
   "execution_count": 150,
   "id": "283f8b2e",
   "metadata": {},
   "outputs": [],
   "source": [
    "import statsmodels.formula.api as smf\n",
    "result = smf.ols(formula = 'Price ~ Open + High + Low',data = df).fit()"
   ]
  },
  {
   "cell_type": "code",
   "execution_count": 151,
   "id": "6d502ffe",
   "metadata": {},
   "outputs": [
    {
     "name": "stdout",
     "output_type": "stream",
     "text": [
      "                            OLS Regression Results                            \n",
      "==============================================================================\n",
      "Dep. Variable:                  Price   R-squared:                       1.000\n",
      "Model:                            OLS   Adj. R-squared:                  1.000\n",
      "Method:                 Least Squares   F-statistic:                 4.873e+06\n",
      "Date:                Mon, 15 May 2023   Prob (F-statistic):               0.00\n",
      "Time:                        10:57:12   Log-Likelihood:                -9970.9\n",
      "No. Observations:                3782   AIC:                         1.995e+04\n",
      "Df Residuals:                    3778   BIC:                         1.997e+04\n",
      "Df Model:                           3                                         \n",
      "Covariance Type:            nonrobust                                         \n",
      "==============================================================================\n",
      "                 coef    std err          t      P>|t|      [0.025      0.975]\n",
      "------------------------------------------------------------------------------\n",
      "Intercept     -0.1151      0.099     -1.167      0.243      -0.308       0.078\n",
      "Open          -0.5552      0.011    -50.773      0.000      -0.577      -0.534\n",
      "High           0.8499      0.010     87.580      0.000       0.831       0.869\n",
      "Low            0.7032      0.008     89.884      0.000       0.688       0.719\n",
      "==============================================================================\n",
      "Omnibus:                     1353.958   Durbin-Watson:                   2.089\n",
      "Prob(Omnibus):                  0.000   Jarque-Bera (JB):            97840.403\n",
      "Skew:                           0.827   Prob(JB):                         0.00\n",
      "Kurtosis:                      27.862   Cond. No.                     1.16e+03\n",
      "==============================================================================\n",
      "\n",
      "Notes:\n",
      "[1] Standard Errors assume that the covariance matrix of the errors is correctly specified.\n",
      "[2] The condition number is large, 1.16e+03. This might indicate that there are\n",
      "strong multicollinearity or other numerical problems.\n"
     ]
    }
   ],
   "source": [
    "print(result.summary())"
   ]
  },
  {
   "cell_type": "code",
   "execution_count": null,
   "id": "05e10cdc",
   "metadata": {},
   "outputs": [],
   "source": []
  },
  {
   "cell_type": "code",
   "execution_count": null,
   "id": "5cff2b46",
   "metadata": {},
   "outputs": [],
   "source": []
  }
 ],
 "metadata": {
  "kernelspec": {
   "display_name": "Python 3 (ipykernel)",
   "language": "python",
   "name": "python3"
  },
  "language_info": {
   "codemirror_mode": {
    "name": "ipython",
    "version": 3
   },
   "file_extension": ".py",
   "mimetype": "text/x-python",
   "name": "python",
   "nbconvert_exporter": "python",
   "pygments_lexer": "ipython3",
   "version": "3.9.12"
  }
 },
 "nbformat": 4,
 "nbformat_minor": 5
}
